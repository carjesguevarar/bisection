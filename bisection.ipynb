{
 "cells": [
  {
   "cell_type": "markdown",
   "metadata": {
    "collapsed": true
   },
   "source": [
    "# Recursos necesarios"
   ]
  },
  {
   "cell_type": "code",
   "execution_count": 1,
   "metadata": {},
   "outputs": [],
   "source": [
    "import matplotlib.pyplot as plt\n",
    "\n",
    "\n",
    "grap = []\n",
    "\n",
    "\n",
    "def f(x):\n",
    "    \"\"\"\n",
    "    Función que evalua la función en un punto.\n",
    "    :param x: Punto de evaluación.\n",
    "    :return: Valor numérico de la evaluación.\n",
    "    \"\"\"\n",
    "    return x**3 - 2*x**2 - 5\n",
    "\n",
    "\n",
    "def relerr(vn, vl):\n",
    "    \"\"\"\n",
    "    Función que calcula el error relativo.\n",
    "    :param vn: Valor actual.\n",
    "    :param vl: Valor anterior.\n",
    "    :return: Error relativo en base a los dos valores.\n",
    "    \"\"\"\n",
    "    return abs((vn-vl)/vn)"
   ]
  },
  {
   "cell_type": "markdown",
   "metadata": {},
   "source": [
    "# Método de Bisección"
   ]
  },
  {
   "cell_type": "code",
   "execution_count": 2,
   "metadata": {},
   "outputs": [],
   "source": [
    "def bisection(maxit, erracep, a, b):\n",
    "    \"\"\"\n",
    "    Función de busqueda de la raíz de una función, mediante la subdivisión de intervalos.\n",
    "    :param maxit: Máximo número de iteraciones.\n",
    "    :param erracep: Valor del error aceptado.\n",
    "    :param a: Intervalo inferior.\n",
    "    :param b: Intervalo superior.\n",
    "    :return: Raíz de la función tal qué, f(valor) = 0; si esta cumple con las condiciones.\n",
    "    \"\"\"\n",
    "    if f(a)*f(b) >= 0:\n",
    "        print('¡La función no satisface la condición: f(a)*f(b) < 0!')\n",
    "        return None\n",
    "    else:\n",
    "        i, cant = 0, 0.00\n",
    "        c = (a + b) / 2\n",
    "        erri = relerr(c, cant)\n",
    "        while i < maxit and erri > erracep:\n",
    "            if i != 0:\n",
    "                cant = c\n",
    "            c = (a + b) / 2\n",
    "            erri = relerr(c, cant)\n",
    "            grap.append(erri)\n",
    "            if f(c) == 0:\n",
    "                return c\n",
    "            if f(a) * f(c) < 0:\n",
    "                b = c\n",
    "            else:\n",
    "                a = c\n",
    "            i = i + 1\n",
    "        return c"
   ]
  },
  {
   "cell_type": "markdown",
   "metadata": {},
   "source": [
    "# Vista de resultados"
   ]
  },
  {
   "cell_type": "markdown",
   "metadata": {},
   "source": [
    "Raíz de la función:"
   ]
  },
  {
   "cell_type": "code",
   "execution_count": 3,
   "metadata": {},
   "outputs": [
    {
     "data": {
      "text/plain": [
       "2.78125"
      ]
     },
     "execution_count": 3,
     "metadata": {},
     "output_type": "execute_result"
    }
   ],
   "source": [
    "bisection(5, 0.03, 1, 4)"
   ]
  },
  {
   "cell_type": "markdown",
   "metadata": {},
   "source": [
    "Gráfica perteneciente al error relativo:"
   ]
  },
  {
   "cell_type": "code",
   "execution_count": 4,
   "metadata": {},
   "outputs": [
    {
     "data": {
      "text/plain": [
       "[<matplotlib.lines.Line2D at 0xad8e44ec>]"
      ]
     },
     "execution_count": 4,
     "metadata": {},
     "output_type": "execute_result"
    },
    {
     "data": {
      "image/png": "[encoded data removed]",
      "text/plain": [
       "<Figure size 432x288 with 1 Axes>"
      ]
     },
     "metadata": {},
     "output_type": "display_data"
    }
   ],
   "source": [
    "plt.plot(grap)"
   ]
  }
 ],
 "metadata": {
  "kernelspec": {
   "display_name": "Python 2",
   "language": "python",
   "name": "python2"
  },
  "language_info": {
   "codemirror_mode": {
    "name": "ipython",
    "version": 2
   },
   "file_extension": ".py",
   "mimetype": "text/x-python",
   "name": "python",
   "nbconvert_exporter": "python",
   "pygments_lexer": "ipython2",
   "version": "2.7.6"
  }
 },
 "nbformat": 4,
 "nbformat_minor": 0
}
